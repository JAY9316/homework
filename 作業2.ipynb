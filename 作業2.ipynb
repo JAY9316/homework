{
  "nbformat": 4,
  "nbformat_minor": 0,
  "metadata": {
    "colab": {
      "provenance": [],
      "authorship_tag": "ABX9TyPUd+zwMh+jqF1q7HxYC3UM",
      "include_colab_link": true
    },
    "kernelspec": {
      "name": "python3",
      "display_name": "Python 3"
    },
    "language_info": {
      "name": "python"
    }
  },
  "cells": [
    {
      "cell_type": "markdown",
      "metadata": {
        "id": "view-in-github",
        "colab_type": "text"
      },
      "source": [
        "<a href=\"https://colab.research.google.com/github/JAY9316/homework/blob/main/%E4%BD%9C%E6%A5%AD2.ipynb\" target=\"_parent\"><img src=\"https://colab.research.google.com/assets/colab-badge.svg\" alt=\"Open In Colab\"/></a>"
      ]
    },
    {
      "cell_type": "code",
      "execution_count": null,
      "metadata": {
        "colab": {
          "base_uri": "https://localhost:8080/"
        },
        "id": "OgZcgtFa-Qel",
        "outputId": "55464b41-13d1-4b0f-900e-435b5263299f"
      },
      "outputs": [
        {
          "output_type": "stream",
          "name": "stdout",
          "text": [
            "文章總共有 127 個字（包括標點符號）\n"
          ]
        }
      ],
      "source": [
        "article = \"大道之行也，天  下為公。 選賢與能，講信  修睦。故人不獨親其親，不獨子其子；使老有所終，壯有 所用，幼有 所長，矜寡孤獨廢疾者，皆有所養；男有分 女有歸。貨惡其棄 於地也不必藏於  己；力惡其不  出於身也不必為己。是故 謀閉而不興 ，盜竊亂賊而不作，故外戶而 不閉，是謂「大同」。\"\n",
        "article = article.replace(\" \", \"\")\n",
        "num_chars = len(article)\n",
        "\n",
        "print(\"文章總共有\", num_chars, \"個字（包括標點符號）\")\n"
      ]
    },
    {
      "cell_type": "code",
      "source": [
        "text = \"大道之行也，天下為公。選賢與能，講信修睦。故人不獨親其親，不獨子其子；使老有所終，壯有所用，幼有所長，矜寡孤獨廢疾者，皆有所養；男有分女有歸。貨惡其棄於地也不必藏於己；力惡其不出於身也不必為己。是故謀閉而不興，盜竊亂賊而不作，故外戶而不閉，是謂「大同」。\"\n",
        "\n",
        "punctuations = [\"，\", \"。\", \"；\", \"：\", \"？\", \"！\"]\n",
        "\n",
        "paragraphs = [text]\n",
        "\n",
        "for punctuation in punctuations:\n",
        "    new_paragraphs = []\n",
        "    \n",
        "    for paragraph in paragraphs:\n",
        "        sub_paragraphs = paragraph.split(punctuation)\n",
        "        new_paragraphs += sub_paragraphs\n",
        "    paragraphs = new_paragraphs\n",
        "    \n",
        "if paragraphs[-1] == '':\n",
        "    paragraphs.pop()\n",
        "\n",
        "for i, paragraph in enumerate(paragraphs):\n",
        "    print(\"段落 {}：{}\".format(i+1, paragraph))\n"
      ],
      "metadata": {
        "colab": {
          "base_uri": "https://localhost:8080/"
        },
        "id": "hjLfIL1F-XGh",
        "outputId": "2fd0fc53-6468-432a-c67d-16906d8ae1df"
      },
      "execution_count": null,
      "outputs": [
        {
          "output_type": "stream",
          "name": "stdout",
          "text": [
            "段落 1：大道之行也\n",
            "段落 2：天下為公\n",
            "段落 3：選賢與能\n",
            "段落 4：講信修睦\n",
            "段落 5：故人不獨親其親\n",
            "段落 6：不獨子其子\n",
            "段落 7：使老有所終\n",
            "段落 8：壯有所用\n",
            "段落 9：幼有所長\n",
            "段落 10：矜寡孤獨廢疾者\n",
            "段落 11：皆有所養\n",
            "段落 12：男有分女有歸\n",
            "段落 13：貨惡其棄於地也不必藏於己\n",
            "段落 14：力惡其不出於身也不必為己\n",
            "段落 15：是故謀閉而不興\n",
            "段落 16：盜竊亂賊而不作\n",
            "段落 17：故外戶而不閉\n",
            "段落 18：是謂「大同」\n"
          ]
        }
      ]
    },
    {
      "cell_type": "code",
      "source": [
        "text = \"大道之行也，天下為公。選賢與能，講信修睦。故人不獨親其親，不獨子其子；使老有所終，壯有所用，幼有所長，矜寡孤獨廢疾者，皆有所養；男有分女有歸。貨惡其棄於地也不必藏於己；力惡其不出於身也不必為己。是故謀閉而不興，盜竊亂賊而不作，故外戶而不閉，是謂「大同」。\"\n",
        "\n",
        "count = text.count(\"不\")\n",
        "print(\"文章中共有\", count, \"個「不」字。\")\n"
      ],
      "metadata": {
        "colab": {
          "base_uri": "https://localhost:8080/"
        },
        "id": "Fb2tRn5NAZhD",
        "outputId": "48b9cc4d-60f3-4044-8e0a-2faa0f9fd77f"
      },
      "execution_count": null,
      "outputs": [
        {
          "output_type": "stream",
          "name": "stdout",
          "text": [
            "文章中共有 8 個「不」字。\n"
          ]
        }
      ]
    }
  ]
}