{
  "nbformat": 4,
  "nbformat_minor": 0,
  "metadata": {
    "colab": {
      "provenance": [],
      "authorship_tag": "ABX9TyNtC+U0XpBBjEcixSDbA1m/",
      "include_colab_link": true
    },
    "kernelspec": {
      "name": "python3",
      "display_name": "Python 3"
    },
    "language_info": {
      "name": "python"
    }
  },
  "cells": [
    {
      "cell_type": "markdown",
      "metadata": {
        "id": "view-in-github",
        "colab_type": "text"
      },
      "source": [
        "<a href=\"https://colab.research.google.com/github/JAY9316/homework/blob/main/%E4%BD%9C%E6%A5%AD2.ipynb\" target=\"_parent\"><img src=\"https://colab.research.google.com/assets/colab-badge.svg\" alt=\"Open In Colab\"/></a>"
      ]
    },
    {
      "cell_type": "code",
      "execution_count": 18,
      "metadata": {
        "colab": {
          "base_uri": "https://localhost:8080/"
        },
        "id": "OgZcgtFa-Qel",
        "outputId": "4582b9a1-2745-42f8-eb3a-3f347c525bde"
      },
      "outputs": [
        {
          "output_type": "stream",
          "name": "stdout",
          "text": [
            "文章總共有 127 個字\n"
          ]
        }
      ],
      "source": [
        "a = \"大道之行也，天  下為公。 選賢與能，講信  修睦。故人不獨親其親，不獨子其子；使老有所終，壯有 所用，幼有 所長，矜寡孤獨廢疾者，皆有所養；男有分 女有歸。貨惡其棄 於地也不必藏於  己；力惡其不  出於身也不必為己。是故 謀閉而不興 ，盜竊亂賊而不作，故外戶而 不閉，是謂「大同」。\"\n",
        "b =a.replace(\" \", \"\")\n",
        "c= len(b)\n",
        "\n",
        "print(\"文章總共有\", c, \"個字\")\n"
      ]
    },
    {
      "cell_type": "code",
      "source": [
        "a=\"大道之行也，天  下為公。 選賢與能，講信  修睦。故人不獨親其親，不獨子其子；使老有所終，壯有 所用，幼有 所長，矜寡孤獨廢疾者，皆有所養；男有分 女有歸。貨惡其棄 於地也不必藏於  己；力惡其不  出於身也不必為己。是故 謀閉而不興 ，盜竊亂賊而不作，故外戶而 不閉，是謂「大同」。\"\n",
        "b=a.replace(\" \",\"\")\n",
        "c=b.replace('。', '。\\n').replace('；', '；\\n').replace('，', '，\\n')\n",
        "d=c.replace('。', '。\\b').replace('；', '；\\b').replace('，', '，\\b')\n",
        "print(d)"
      ],
      "metadata": {
        "colab": {
          "base_uri": "https://localhost:8080/"
        },
        "id": "itMrGATz2UJA",
        "outputId": "d4fe7b22-a6d4-4a93-f9c5-4cccf3c62311"
      },
      "execution_count": 20,
      "outputs": [
        {
          "output_type": "stream",
          "name": "stdout",
          "text": [
            "大道之行也，\b\n",
            "天下為公。\b\n",
            "選賢與能，\b\n",
            "講信修睦。\b\n",
            "故人不獨親其親，\b\n",
            "不獨子其子；\b\n",
            "使老有所終，\b\n",
            "壯有所用，\b\n",
            "幼有所長，\b\n",
            "矜寡孤獨廢疾者，\b\n",
            "皆有所養；\b\n",
            "男有分女有歸。\b\n",
            "貨惡其棄於地也不必藏於己；\b\n",
            "力惡其不出於身也不必為己。\b\n",
            "是故謀閉而不興，\b\n",
            "盜竊亂賊而不作，\b\n",
            "故外戶而不閉，\b\n",
            "是謂「大同」。\b\n",
            "\n"
          ]
        }
      ]
    },
    {
      "cell_type": "code",
      "source": [
        "a = \"大道之行也，天下為公。選賢與能，講信修睦。故人不獨親其親，不獨子其子；使老有所終，壯有所用，幼有所長，矜寡孤獨廢疾者，皆有所養；男有分女有歸。貨惡其棄於地也不必藏於己；力惡其不出於身也不必為己。是故謀閉而不興，盜竊亂賊而不作，故外戶而不閉，是謂「大同」。\"\n",
        "\n",
        "b = a.count(\"不\")\n",
        "print(\"文章中共有\", b, \"個「不」字。\")\n"
      ],
      "metadata": {
        "colab": {
          "base_uri": "https://localhost:8080/"
        },
        "id": "Fb2tRn5NAZhD",
        "outputId": "72c06969-9598-44e3-e1f2-9e8de75c5499"
      },
      "execution_count": 19,
      "outputs": [
        {
          "output_type": "stream",
          "name": "stdout",
          "text": [
            "文章中共有 8 個「不」字。\n"
          ]
        }
      ]
    }
  ]
}