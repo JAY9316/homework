{
  "nbformat": 4,
  "nbformat_minor": 0,
  "metadata": {
    "colab": {
      "provenance": [],
      "authorship_tag": "ABX9TyOYXuGOazSMZshzwQk1p6x5",
      "include_colab_link": true
    },
    "kernelspec": {
      "name": "python3",
      "display_name": "Python 3"
    },
    "language_info": {
      "name": "python"
    }
  },
  "cells": [
    {
      "cell_type": "markdown",
      "metadata": {
        "id": "view-in-github",
        "colab_type": "text"
      },
      "source": [
        "<a href=\"https://colab.research.google.com/github/JAY9316/homework/blob/main/%E4%BD%9C%E6%A5%AD2_.ipynb\" target=\"_parent\"><img src=\"https://colab.research.google.com/assets/colab-badge.svg\" alt=\"Open In Colab\"/></a>"
      ]
    },
    {
      "cell_type": "code",
      "source": [
        "text = \"大道之行也，天下為公。選賢與能，講信修睦。故人不獨親其親，不獨子其子；使老有所終，壯有所用，幼有所長，矜寡孤獨廢疾者，皆有所養；男有分女有歸。貨惡其棄於地也不必藏於己；力惡其不出於身也不必為己。是故謀閉而不興，盜竊亂賊而不作，故外戶而不閉，是謂「大同」。\"\n",
        "count = 0\n",
        "\n",
        "for char in text:\n",
        "    \n",
        "    if char != ' ':\n",
        "        count += 1\n",
        "\n",
        "print(\"文章中共有\", count, \"個字\")\n"
      ],
      "metadata": {
        "colab": {
          "base_uri": "https://localhost:8080/"
        },
        "id": "9S3-2EsM5nNR",
        "outputId": "928d77ad-60cc-4593-bc57-41a6627e94c0"
      },
      "execution_count": 6,
      "outputs": [
        {
          "output_type": "stream",
          "name": "stdout",
          "text": [
            "文章中共有 127 個字\n"
          ]
        }
      ]
    },
    {
      "cell_type": "code",
      "source": [
        "text = \"大道之行也，天下為公。選賢與能，講信修睦。故人不獨親其親，不獨子其子；使老有所終，壯有所用，幼有所長，矜寡孤獨廢疾者，皆有所養；男有分女有歸。貨惡其棄於地也不必藏於己；力惡其不出於身也不必為己。是故謀閉而不興，盜竊亂賊而不作，故外戶而不閉，是謂「大同」。\"\n",
        "\n",
        "# 標點符號列表\n",
        "punctuations = [\"，\", \"。\", \"；\", \"：\", \"？\", \"！\"]\n",
        "\n",
        "# 初始化段落列表\n",
        "paragraphs = [text]\n",
        "\n",
        "# 對每個標點符號進行分段\n",
        "for punctuation in punctuations:\n",
        "    new_paragraphs = []\n",
        "    for paragraph in paragraphs:\n",
        "        # 將該段文字以標點符號進行分割\n",
        "        sub_paragraphs = paragraph.split(punctuation)\n",
        "        # 將分割後的子段落加入新的段落列表\n",
        "        new_paragraphs += sub_paragraphs\n",
        "    # 更新段落列表\n",
        "    paragraphs = new_paragraphs\n",
        "\n",
        "# 印出分段結果\n",
        "for i, paragraph in enumerate(paragraphs):\n",
        "    print(\"段落 {}：{}\".format(i+1, paragraph))\n"
      ],
      "metadata": {
        "colab": {
          "base_uri": "https://localhost:8080/"
        },
        "id": "M3LGFTRZRjl6",
        "outputId": "ab9fca49-8de7-4f7f-80c0-9d3fbb5bdb5a"
      },
      "execution_count": 7,
      "outputs": [
        {
          "output_type": "stream",
          "name": "stdout",
          "text": [
            "段落 1：大道之行也\n",
            "段落 2：天下為公\n",
            "段落 3：選賢與能\n",
            "段落 4：講信修睦\n",
            "段落 5：故人不獨親其親\n",
            "段落 6：不獨子其子\n",
            "段落 7：使老有所終\n",
            "段落 8：壯有所用\n",
            "段落 9：幼有所長\n",
            "段落 10：矜寡孤獨廢疾者\n",
            "段落 11：皆有所養\n",
            "段落 12：男有分女有歸\n",
            "段落 13：貨惡其棄於地也不必藏於己\n",
            "段落 14：力惡其不出於身也不必為己\n",
            "段落 15：是故謀閉而不興\n",
            "段落 16：盜竊亂賊而不作\n",
            "段落 17：故外戶而不閉\n",
            "段落 18：是謂「大同」\n",
            "段落 19：\n"
          ]
        }
      ]
    },
    {
      "cell_type": "code",
      "source": [
        "text = \"大道之行也，天下為公。選賢與能，講信修睦。故人不獨親其親，不獨子其子；使老有所終，壯有所用，幼有所長，矜寡孤獨廢疾者，皆有所養；男有分女有歸。貨惡其棄於地也不必藏於己；力惡其不出於身也不必為己。是故謀閉而不興，盜竊亂賊而不作，故外戶而不閉，是謂「大同」。\"\n",
        "\n",
        "count = text.count(\"不\")\n",
        "print(\"文章中共有\", count, \"個「不」字。\")\n"
      ],
      "metadata": {
        "colab": {
          "base_uri": "https://localhost:8080/"
        },
        "id": "qYutrYo1TfzT",
        "outputId": "b7e1ce71-6254-4725-8716-c97905904ac3"
      },
      "execution_count": 8,
      "outputs": [
        {
          "output_type": "stream",
          "name": "stdout",
          "text": [
            "文章中共有 8 個「不」字。\n"
          ]
        }
      ]
    }
  ]
}