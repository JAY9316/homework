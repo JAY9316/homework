{
  "nbformat": 4,
  "nbformat_minor": 0,
  "metadata": {
    "colab": {
      "provenance": [],
      "gpuType": "T4",
      "authorship_tag": "ABX9TyMsEfy4RyrIryFD1wU8deSQ",
      "include_colab_link": true
    },
    "kernelspec": {
      "name": "python3",
      "display_name": "Python 3"
    },
    "language_info": {
      "name": "python"
    },
    "accelerator": "GPU"
  },
  "cells": [
    {
      "cell_type": "markdown",
      "metadata": {
        "id": "view-in-github",
        "colab_type": "text"
      },
      "source": [
        "<a href=\"https://colab.research.google.com/github/JAY9316/homework/blob/main/Untitled18.ipynb\" target=\"_parent\"><img src=\"https://colab.research.google.com/assets/colab-badge.svg\" alt=\"Open In Colab\"/></a>"
      ]
    },
    {
      "cell_type": "code",
      "source": [
        "import math\n",
        "\n",
        "class City:\n",
        "    def __init__(self, name, x, y, accommodation_cost):\n",
        "        self.name = name\n",
        "        self.x = x\n",
        "        self.y = y\n",
        "        self.accommodation_cost = accommodation_cost\n",
        "\n",
        "def calculate_distance(city1, city2):\n",
        "    return math.sqrt((city1.x - city2.x)**2 + (city1.y - city2.y)**2)\n",
        "\n",
        "def calculate_total_cost(city_order):\n",
        "    total_cost = 0\n",
        "    discount = 1.0\n",
        "    for i in range(len(city_order) - 1):\n",
        "        city1 = city_order[i]\n",
        "        city2 = city_order[i + 1]\n",
        "        distance = calculate_distance(city1, city2)\n",
        "        total_cost += distance * 100  # 油錢每公里100元\n",
        "        total_cost += city2.accommodation_cost * discount\n",
        "        if city1.name in ['C', 'G'] and city2.name == 'A':\n",
        "            discount = 0.8\n",
        "        elif city1.name in ['D', 'E'] and city2.name == 'B':\n",
        "            discount = 0.8\n",
        "        else:\n",
        "            discount = 1.0\n",
        "    return total_cost\n",
        "\n",
        "def find_cheapest_route(cities):\n",
        "    cheapest_cost = float('inf')\n",
        "    cheapest_route = None\n",
        "\n",
        "    for i in range(len(cities)):\n",
        "        current_city = cities[i]\n",
        "        remaining_cities = cities[:i] + cities[i+1:]\n",
        "        current_route = [current_city]\n",
        "\n",
        "        while remaining_cities:\n",
        "            next_city = min(remaining_cities, key=lambda city: calculate_distance(current_route[-1], city))\n",
        "            current_route.append(next_city)\n",
        "            remaining_cities.remove(next_city)\n",
        "\n",
        "        total_cost = calculate_total_cost(current_route)\n",
        "\n",
        "        if total_cost < cheapest_cost:\n",
        "            cheapest_cost = total_cost\n",
        "            cheapest_route = current_route\n",
        "\n",
        "    return cheapest_route, cheapest_cost\n",
        "\n",
        "# 建立城市物件\n",
        "city_A = City('A', 0, 0, 2000)\n",
        "city_B = City('B', 0, 120, 2400)\n",
        "city_C = City('C', 30, 100, 2400)\n",
        "city_D = City('D', 80, 0, 1600)\n",
        "city_E = City('E', 45, 10, 1500)\n",
        "city_F = City('F', 90, 160, 2200)\n",
        "city_G = City('G', 120, 200, 1200)\n",
        "\n",
        "# 放入城市清單\n",
        "cities = [city_A, city_B, city_C, city_D, city_E, city_F, city_G]\n",
        "\n",
        "# 尋找最便宜的旅遊方案\n",
        "cheapest_route, cheapest_cost = find_cheapest_route(cities)\n",
        "\n",
        "# 列印結果\n",
        "print(\"最便宜的旅遊方案:\")\n",
        "for i in range(len(cheapest_route) - 1):\n",
        "    print(cheapest_route[i].name, end=\" --> \")\n",
        "print(cheapest_route[-1].name)\n",
        "print(\"總共花費的旅費:\", cheapest_cost)\n"
      ],
      "metadata": {
        "colab": {
          "base_uri": "https://localhost:8080/"
        },
        "id": "M4r035GY4PK_",
        "outputId": "6cadf121-c06c-4987-b5fe-e6be5984728e"
      },
      "execution_count": null,
      "outputs": [
        {
          "output_type": "stream",
          "name": "stdout",
          "text": [
            "最便宜的旅遊方案:\n",
            "D --> E --> A --> C --> B --> F --> G\n",
            "總共花費的旅費: 48844.54275945734\n"
          ]
        }
      ]
    }
  ]
}