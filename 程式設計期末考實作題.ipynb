{
  "nbformat": 4,
  "nbformat_minor": 0,
  "metadata": {
    "colab": {
      "provenance": [],
      "authorship_tag": "ABX9TyOFnutnFJLGBio9asRyLeLx",
      "include_colab_link": true
    },
    "kernelspec": {
      "name": "python3",
      "display_name": "Python 3"
    },
    "language_info": {
      "name": "python"
    }
  },
  "cells": [
    {
      "cell_type": "markdown",
      "metadata": {
        "id": "view-in-github",
        "colab_type": "text"
      },
      "source": [
        "<a href=\"https://colab.research.google.com/github/JAY9316/homework/blob/main/%E7%A8%8B%E5%BC%8F%E8%A8%AD%E8%A8%88%E6%9C%9F%E6%9C%AB%E8%80%83%E5%AF%A6%E4%BD%9C%E9%A1%8C.ipynb\" target=\"_parent\"><img src=\"https://colab.research.google.com/assets/colab-badge.svg\" alt=\"Open In Colab\"/></a>"
      ]
    },
    {
      "cell_type": "code",
      "execution_count": null,
      "metadata": {
        "colab": {
          "base_uri": "https://localhost:8080/"
        },
        "id": "U1fivV6C6vgB",
        "outputId": "391b2414-5cea-4eb9-c9d5-7a7a495d3a2b"
      },
      "outputs": [
        {
          "output_type": "stream",
          "name": "stdout",
          "text": [
            "旅遊路線:\n",
            "A -> B -> C -> F -> G -> D -> E\n",
            "總金額: 5140.054944640259\n"
          ]
        }
      ],
      "source": [
        "import math\n",
        "\n",
        "class City:\n",
        "    def __init__(self, name, coordinates, accommodation_cost):\n",
        "        self.name = name\n",
        "        self.coordinates = coordinates\n",
        "        self.accommodation_cost = accommodation_cost\n",
        "    \n",
        "    def calculate_discounted_cost(self, previous_city):\n",
        "        if previous_city is None:\n",
        "            return self.accommodation_cost\n",
        "        if previous_city.name in [\"C\", \"G\"] and self.name == \"A\":\n",
        "            return self.accommodation_cost * 0.8\n",
        "        if previous_city.name in [\"D\", \"E\"] and self.name == \"B\":\n",
        "            return self.accommodation_cost * 0.8\n",
        "        if previous_city.name in [\"A\", \"C\"] and self.name == \"F\":\n",
        "            return self.accommodation_cost * 0.8\n",
        "        if previous_city.name in [\"E\", \"F\"] and self.name == \"G\":\n",
        "            return self.accommodation_cost * 0.8\n",
        "        return self.accommodation_cost\n",
        "\n",
        "def calculate_distance(city1, city2):\n",
        "    x1, y1 = city1.coordinates\n",
        "    x2, y2 = city2.coordinates\n",
        "    return math.sqrt((x2 - x1)**2 + (y2 - y1)**2)\n",
        "\n",
        "def calculate_travel_cost(city1, city2, distance):\n",
        "    fuel_cost_per_km = 100\n",
        "    accommodation_cost = city2.calculate_discounted_cost(city1)\n",
        "    return distance * fuel_cost_per_km + accommodation_cost\n",
        "\n",
        "def find_cheapest_travel_plan():\n",
        "    cities = [\n",
        "        City(\"A\", (0, 0), 2000),\n",
        "        City(\"B\", (0, 120), 2400),\n",
        "        City(\"C\", (30, 100), 2400),\n",
        "        City(\"D\", (80, 0), 1600),\n",
        "        City(\"E\", (45, 10), 1500),\n",
        "        City(\"F\", (90, 160), 2200),\n",
        "        City(\"G\", (120, 200), 1200)\n",
        "    ]\n",
        "\n",
        "    min_cost = float(\"inf\")\n",
        "    best_path = []\n",
        "\n",
        "    for start_city in cities:\n",
        "        current_path = [start_city]\n",
        "        remaining_cities = cities[:]\n",
        "        remaining_cities.remove(start_city)\n",
        "\n",
        "        while remaining_cities:\n",
        "            last_city = current_path[-1]\n",
        "            nearest_city = min(remaining_cities, key=lambda city: calculate_distance(last_city, city))\n",
        "            distance = calculate_distance(last_city, nearest_city)\n",
        "            current_cost = calculate_travel_cost(last_city, nearest_city, distance)\n",
        "            if current_cost < min_cost:\n",
        "                min_cost = current_cost\n",
        "                best_path = current_path + [nearest_city]\n",
        "            current_path.append(nearest_city)\n",
        "            remaining_cities.remove(nearest_city)\n",
        "\n",
        "    return best_path, min_cost\n",
        "\n",
        "best_path, min_cost = find_cheapest_travel_plan()\n",
        "best_path.insert(0, City(\"A\", (0, 0), 2000))  # 添加起始城市A到行程路徑列表開頭\n",
        "\n",
        "print(\"旅遊路線:\")\n",
        "for i, city in enumerate(best_path):\n",
        "    print(city.name, end=\"\")\n",
        "    if i != len(best_path) - 1:  # 檢查是否為最後一個城市\n",
        "        print(\" -> \", end=\"\")\n",
        "print(\"\\n總金額:\", min_cost)\n",
        "\n"
      ]
    }
  ]
}